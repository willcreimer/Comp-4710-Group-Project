{
 "cells": [
  {
   "cell_type": "code",
   "execution_count": 82,
   "id": "d9fad6b7-f477-4de7-b375-ffdc23e3e024",
   "metadata": {},
   "outputs": [],
   "source": [
    "import pandas as pd\n",
    "import numpy as np\n",
    "\n",
    "df = pd.read_csv('data-cleaned.csv')\n",
    "label=df[\"isNaturalCaused\"]\n",
    "df.drop(labels=[\"isNaturalCaused\",\"fire_year\", \"true_cause\", \"general_cause_desc\"], axis=1, inplace=True)\n",
    "#df = df.applymap(lambda x: x.strip() if isinstance(x, str) else x)\n",
    "\n",
    "#Preprocessing:\n",
    "\n",
    "categorical = [var for var in df.columns if df[var].dtype=='O']\n",
    "numerical = [var for var in df.columns if var not in categorical]"
   ]
  },
  {
   "cell_type": "code",
   "execution_count": 83,
   "id": "d88fa294-640b-43f2-8b14-75ddec3f68ba",
   "metadata": {},
   "outputs": [
    {
     "name": "stdout",
     "output_type": "stream",
     "text": [
      "fire_type\n",
      "Surface       16718\n",
      "Ground         5022\n",
      "N/A            2569\n",
      "Crown          1010\n",
      "   Surface        1\n",
      "                  1\n",
      "Name: count, dtype: int64\n",
      "fire_position_on_slope\n",
      "Flat          18384\n",
      "N/A            2809\n",
      "Bottom         1388\n",
      "Upper 1/3      1070\n",
      "Middle 1/3      910\n",
      "Lower 1/3       760\n",
      "Name: count, dtype: int64\n",
      "weather_conditions_over_fire\n",
      "Clear          10514\n",
      "Cloudy          8121\n",
      "N/A             2818\n",
      "CB Wet          1502\n",
      "CB Dry          1414\n",
      "Rainshowers      952\n",
      "Name: count, dtype: int64\n",
      "wind_direction\n",
      "W      5103\n",
      "CLM    3249\n",
      "N/A    2823\n",
      "SW     2714\n",
      "NW     2682\n",
      "SE     2470\n",
      "E      1820\n",
      "S      1590\n",
      "N      1553\n",
      "NE     1314\n",
      " S        2\n",
      " NW       1\n",
      "Name: count, dtype: int64\n"
     ]
    },
    {
     "data": {
      "text/plain": [
       "assessment_hectares             0\n",
       "current_size                    0\n",
       "fire_spread_rate                0\n",
       "fire_type                       0\n",
       "fire_position_on_slope          0\n",
       "weather_conditions_over_fire    0\n",
       "temperature                     0\n",
       "relative_humidity               0\n",
       "wind_direction                  0\n",
       "wind_speed                      0\n",
       "dtype: int64"
      ]
     },
     "execution_count": 83,
     "metadata": {},
     "output_type": "execute_result"
    }
   ],
   "source": [
    "# clean up categorical null variable\n",
    "for var in categorical:\n",
    "  df[var]= df[var].fillna(\"N/A\")\n",
    "  print(df[var].value_counts())\n",
    "\n",
    "\n",
    "# clean up numerical null variable using median\n",
    "for var in numerical:\n",
    "  df[var] = df[var].fillna(df[var].median())\n",
    "\n",
    "df.isnull().sum()"
   ]
  },
  {
   "cell_type": "code",
   "execution_count": 84,
   "id": "066922e0",
   "metadata": {},
   "outputs": [
    {
     "data": {
      "text/html": [
       "<div>\n",
       "<style scoped>\n",
       "    .dataframe tbody tr th:only-of-type {\n",
       "        vertical-align: middle;\n",
       "    }\n",
       "\n",
       "    .dataframe tbody tr th {\n",
       "        vertical-align: top;\n",
       "    }\n",
       "\n",
       "    .dataframe thead th {\n",
       "        text-align: right;\n",
       "    }\n",
       "</style>\n",
       "<table border=\"1\" class=\"dataframe\">\n",
       "  <thead>\n",
       "    <tr style=\"text-align: right;\">\n",
       "      <th></th>\n",
       "      <th>assessment_hectares</th>\n",
       "      <th>current_size</th>\n",
       "      <th>fire_spread_rate</th>\n",
       "      <th>fire_type</th>\n",
       "      <th>fire_position_on_slope</th>\n",
       "      <th>weather_conditions_over_fire</th>\n",
       "      <th>temperature</th>\n",
       "      <th>relative_humidity</th>\n",
       "      <th>wind_direction</th>\n",
       "      <th>wind_speed</th>\n",
       "    </tr>\n",
       "  </thead>\n",
       "  <tbody>\n",
       "    <tr>\n",
       "      <th>0</th>\n",
       "      <td>0.01</td>\n",
       "      <td>0.10</td>\n",
       "      <td>0.0</td>\n",
       "      <td>5</td>\n",
       "      <td>1</td>\n",
       "      <td>2</td>\n",
       "      <td>18.0</td>\n",
       "      <td>10.0</td>\n",
       "      <td>10</td>\n",
       "      <td>2.0</td>\n",
       "    </tr>\n",
       "    <tr>\n",
       "      <th>1</th>\n",
       "      <td>0.20</td>\n",
       "      <td>0.20</td>\n",
       "      <td>0.0</td>\n",
       "      <td>5</td>\n",
       "      <td>2</td>\n",
       "      <td>2</td>\n",
       "      <td>12.0</td>\n",
       "      <td>22.0</td>\n",
       "      <td>10</td>\n",
       "      <td>10.0</td>\n",
       "    </tr>\n",
       "    <tr>\n",
       "      <th>2</th>\n",
       "      <td>0.50</td>\n",
       "      <td>0.50</td>\n",
       "      <td>0.0</td>\n",
       "      <td>5</td>\n",
       "      <td>0</td>\n",
       "      <td>2</td>\n",
       "      <td>12.0</td>\n",
       "      <td>22.0</td>\n",
       "      <td>10</td>\n",
       "      <td>10.0</td>\n",
       "    </tr>\n",
       "    <tr>\n",
       "      <th>3</th>\n",
       "      <td>0.01</td>\n",
       "      <td>0.01</td>\n",
       "      <td>0.0</td>\n",
       "      <td>5</td>\n",
       "      <td>1</td>\n",
       "      <td>2</td>\n",
       "      <td>12.0</td>\n",
       "      <td>22.0</td>\n",
       "      <td>10</td>\n",
       "      <td>10.0</td>\n",
       "    </tr>\n",
       "    <tr>\n",
       "      <th>4</th>\n",
       "      <td>0.10</td>\n",
       "      <td>0.10</td>\n",
       "      <td>0.1</td>\n",
       "      <td>5</td>\n",
       "      <td>1</td>\n",
       "      <td>2</td>\n",
       "      <td>6.0</td>\n",
       "      <td>37.0</td>\n",
       "      <td>10</td>\n",
       "      <td>2.0</td>\n",
       "    </tr>\n",
       "  </tbody>\n",
       "</table>\n",
       "</div>"
      ],
      "text/plain": [
       "   assessment_hectares  current_size  fire_spread_rate  fire_type  \\\n",
       "0                 0.01          0.10               0.0          5   \n",
       "1                 0.20          0.20               0.0          5   \n",
       "2                 0.50          0.50               0.0          5   \n",
       "3                 0.01          0.01               0.0          5   \n",
       "4                 0.10          0.10               0.1          5   \n",
       "\n",
       "   fire_position_on_slope  weather_conditions_over_fire  temperature  \\\n",
       "0                       1                             2         18.0   \n",
       "1                       2                             2         12.0   \n",
       "2                       0                             2         12.0   \n",
       "3                       1                             2         12.0   \n",
       "4                       1                             2          6.0   \n",
       "\n",
       "   relative_humidity  wind_direction  wind_speed  \n",
       "0               10.0              10         2.0  \n",
       "1               22.0              10        10.0  \n",
       "2               22.0              10        10.0  \n",
       "3               22.0              10        10.0  \n",
       "4               37.0              10         2.0  "
      ]
     },
     "execution_count": 84,
     "metadata": {},
     "output_type": "execute_result"
    }
   ],
   "source": [
    "# Apply Labeling Encoding\n",
    "from sklearn.preprocessing import LabelEncoder\n",
    "\n",
    "\n",
    "le = LabelEncoder()\n",
    "for var in categorical:\n",
    "  df[var] = le.fit_transform(df[var])\n",
    "\n",
    "df.head()"
   ]
  },
  {
   "cell_type": "code",
   "execution_count": 85,
   "id": "ebab2272-a34f-4d05-824c-16252b9c2b83",
   "metadata": {},
   "outputs": [
    {
     "data": {
      "text/plain": [
       "((32070, 10), (32070,))"
      ]
     },
     "execution_count": 85,
     "metadata": {},
     "output_type": "execute_result"
    }
   ],
   "source": [
    "# handling imbalanced data\n",
    "from imblearn.combine import SMOTETomek\n",
    "from imblearn.under_sampling import NearMiss\n",
    "\n",
    "x = df\n",
    "y = label\n",
    "\n",
    "smk = SMOTETomek()\n",
    "x_res,y_res = smk.fit_resample(x,y)\n",
    "\n",
    "x_res.shape, y_res.shape"
   ]
  },
  {
   "cell_type": "code",
   "execution_count": 86,
   "id": "9c8e1e18",
   "metadata": {},
   "outputs": [
    {
     "name": "stdout",
     "output_type": "stream",
     "text": [
      "X_train shape: (20256, 10)\n",
      "X_test shape: (5065, 10)\n",
      "y_train shape: (20256,)\n",
      "y_test shape: (5065,)\n"
     ]
    }
   ],
   "source": [
    "from sklearn.model_selection import train_test_split\n",
    "import random\n",
    "\n",
    "# train test split\n",
    "x_train, x_test, y_train, y_test = train_test_split(df,label,test_size=0.20,shuffle=True)\n",
    "\n",
    "print(\"X_train shape:\",x_train.shape)\n",
    "print(\"X_test shape:\",x_test.shape)\n",
    "print(\"y_train shape:\",y_train.shape)\n",
    "print(\"y_test shape:\",y_test.shape)"
   ]
  },
  {
   "cell_type": "code",
   "execution_count": 87,
   "id": "62e3d107",
   "metadata": {},
   "outputs": [
    {
     "name": "stdout",
     "output_type": "stream",
     "text": [
      "Runtime: 0.06550717353820801s\n"
     ]
    }
   ],
   "source": [
    "import sklearn.tree\n",
    "import time\n",
    "\n",
    "start_time = time.time()\n",
    "decision_tree = sklearn.tree.DecisionTreeClassifier(criterion = \"gini\")\n",
    "decision_tree.fit(x_train, y_train)\n",
    "end_time = time.time()\n",
    "elapsed_time_closed_form = end_time - start_time\n",
    "print(f\"Runtime: {elapsed_time_closed_form}s\")"
   ]
  },
  {
   "cell_type": "code",
   "execution_count": null,
   "id": "c4b406db",
   "metadata": {},
   "outputs": [
    {
     "name": "stdout",
     "output_type": "stream",
     "text": [
      "Confusion Matrix:\n",
      "                 Predicted Negative  Predicted Positive\n",
      "Actual Negative                2868                 485\n",
      "Actual Positive                 548                1164\n",
      "\n",
      "               precision    recall  f1-score   support\n",
      "\n",
      "           0       0.84      0.86      0.85      3353\n",
      "           1       0.71      0.68      0.69      1712\n",
      "\n",
      "    accuracy                           0.80      5065\n",
      "   macro avg       0.77      0.77      0.77      5065\n",
      "weighted avg       0.79      0.80      0.80      5065\n",
      "\n"
     ]
    }
   ],
   "source": [
    "# Measure test acc and precision\n",
    "from sklearn import metrics\n",
    "\n",
    "y_pred = decision_tree.predict(x_test)\n",
    "\n",
    "cm = metrics.confusion_matrix(y_test, y_pred)\n",
    "cm_df = pd.DataFrame(cm, index=[\"Actual Negative\", \"Actual Positive\"], columns=[\"Predicted Negative\", \"Predicted Positive\"])\n",
    "\n",
    "print(cm_df)\n",
    "print(\"\\n\",metrics.classification_report(y_test, y_pred))"
   ]
  },
  {
   "cell_type": "code",
   "execution_count": 89,
   "id": "60904b74-76e5-49e0-9487-4cbb9f079405",
   "metadata": {},
   "outputs": [
    {
     "name": "stdout",
     "output_type": "stream",
     "text": [
      "Best Parameters: {'criterion': 'entropy'}\n",
      "Train Score: 0.7937393860070868\n",
      "Test Score: 0.7879565646594274\n",
      "Accuracy: 0.7960513326752221\n",
      "Precision: 0.7058823529411765\n"
     ]
    }
   ],
   "source": [
    "# parameters tunning\n",
    "from sklearn.model_selection import GridSearchCV\n",
    "grid = {\n",
    "    'criterion' : [\"gini\",\"entropy\",\"log_loss\"]\n",
    "}\n",
    "\n",
    "tree  = sklearn.tree.DecisionTreeClassifier()\n",
    "tree_cv = GridSearchCV(tree, grid, cv=5)\n",
    "tree_cv.fit(x_train,y_train)\n",
    "print(\"Best Parameters:\",tree_cv.best_params_)\n",
    "pred_y = tree_cv.predict(x_test)\n",
    "\n",
    "print(\"Train Score:\",tree_cv.best_score_)\n",
    "print(\"Test Score:\",tree_cv.score(x_test,y_test))\n",
    "print(\"Accuracy:\",metrics.accuracy_score(y_test, y_pred))\n",
    "print(\"Precision:\",metrics.precision_score(y_test, y_pred))"
   ]
  },
  {
   "cell_type": "code",
   "execution_count": null,
   "id": "a4ae1e7d-24dc-44fe-bb2e-36c17e173980",
   "metadata": {},
   "outputs": [],
   "source": []
  }
 ],
 "metadata": {
  "kernelspec": {
   "display_name": "Python 3 (ipykernel)",
   "language": "python",
   "name": "python3"
  },
  "language_info": {
   "codemirror_mode": {
    "name": "ipython",
    "version": 3
   },
   "file_extension": ".py",
   "mimetype": "text/x-python",
   "name": "python",
   "nbconvert_exporter": "python",
   "pygments_lexer": "ipython3",
   "version": "3.11.7"
  }
 },
 "nbformat": 4,
 "nbformat_minor": 5
}
