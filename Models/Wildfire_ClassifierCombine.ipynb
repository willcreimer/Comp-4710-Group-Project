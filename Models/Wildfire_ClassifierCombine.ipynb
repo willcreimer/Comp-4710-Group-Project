{
 "cells": [
  {
   "cell_type": "code",
   "execution_count": 12,
   "metadata": {
    "executionInfo": {
     "elapsed": 152,
     "status": "ok",
     "timestamp": 1731643220469,
     "user": {
      "displayName": "Nguyen Tano",
      "userId": "03062378622803103021"
     },
     "user_tz": 360
    },
    "id": "LFMvQqp6O8AS"
   },
   "outputs": [],
   "source": [
    "import pandas as pd\n",
    "import numpy as np"
   ]
  },
  {
   "cell_type": "code",
   "execution_count": 13,
   "metadata": {
    "colab": {
     "base_uri": "https://localhost:8080/"
    },
    "executionInfo": {
     "elapsed": 146,
     "status": "ok",
     "timestamp": 1731643220836,
     "user": {
      "displayName": "Nguyen Tano",
      "userId": "03062378622803103021"
     },
     "user_tz": 360
    },
    "id": "u5ClzjcEPCQ2",
    "outputId": "728e1502-a139-4193-b493-217119dd900f"
   },
   "outputs": [
    {
     "name": "stdout",
     "output_type": "stream",
     "text": [
      "['fire_type', 'fire_position_on_slope', 'weather_conditions_over_fire', 'wind_direction']\n",
      "['assessment_hectares', 'current_size', 'fire_spread_rate', 'temperature', 'relative_humidity', 'wind_speed']\n",
      "Surface    16719\n",
      "Ground      5022\n",
      "Crown       1010\n",
      "               1\n",
      "Name: fire_type, dtype: int64\n",
      "Flat         18384\n",
      "Bottom        1388\n",
      "Upper1/3      1070\n",
      "Middle1/3      910\n",
      "Lower1/3       760\n",
      "Name: fire_position_on_slope, dtype: int64\n",
      "Clear          10514\n",
      "Cloudy          8121\n",
      "CBWet           1502\n",
      "CBDry           1414\n",
      "Rainshowers      952\n",
      "Name: weather_conditions_over_fire, dtype: int64\n",
      "W      5103\n",
      "CLM    3249\n",
      "SW     2714\n",
      "NW     2683\n",
      "SE     2470\n",
      "E      1820\n",
      "S      1592\n",
      "N      1553\n",
      "NE     1314\n",
      "Name: wind_direction, dtype: int64\n",
      "<class 'pandas.core.frame.DataFrame'>\n",
      "RangeIndex: 25321 entries, 0 to 25320\n",
      "Data columns (total 10 columns):\n",
      " #   Column                        Non-Null Count  Dtype  \n",
      "---  ------                        --------------  -----  \n",
      " 0   assessment_hectares           25321 non-null  float64\n",
      " 1   current_size                  25321 non-null  float64\n",
      " 2   fire_spread_rate              22569 non-null  float64\n",
      " 3   fire_type                     22752 non-null  object \n",
      " 4   fire_position_on_slope        22512 non-null  object \n",
      " 5   weather_conditions_over_fire  22503 non-null  object \n",
      " 6   temperature                   22501 non-null  float64\n",
      " 7   relative_humidity             22499 non-null  float64\n",
      " 8   wind_direction                22498 non-null  object \n",
      " 9   wind_speed                    22498 non-null  float64\n",
      "dtypes: float64(6), object(4)\n",
      "memory usage: 1.9+ MB\n"
     ]
    }
   ],
   "source": [
    "df = pd.read_csv('data-cleaned.csv')\n",
    "label=df[\"isNaturalCaused\"]\n",
    "df.drop(labels=[\"isNaturalCaused\",\"fire_year\", \"true_cause\", \"general_cause_desc\"], axis=1, inplace=True)\n",
    "\n",
    "\n",
    "#Preprocessing:\n",
    "\n",
    "categorical = [var for var in df.columns if df[var].dtype=='O']\n",
    "numerical = [var for var in df.columns if var not in categorical]\n",
    "\n",
    "print(categorical)\n",
    "print(numerical)\n",
    "\n",
    "for var in categorical:\n",
    "  df[var] = df[var].str.replace(\" \", \"\")\n",
    "  print(df[var].value_counts())\n",
    "\n",
    "df.info()"
   ]
  },
  {
   "cell_type": "code",
   "execution_count": 14,
   "metadata": {
    "colab": {
     "base_uri": "https://localhost:8080/",
     "height": 1000
    },
    "executionInfo": {
     "elapsed": 7,
     "status": "ok",
     "timestamp": 1731643220836,
     "user": {
      "displayName": "Nguyen Tano",
      "userId": "03062378622803103021"
     },
     "user_tz": 360
    },
    "id": "bA7fvtGQj2Hb",
    "outputId": "b322fcc1-43b7-4f37-fa18-7dafa328d45a"
   },
   "outputs": [
    {
     "name": "stdout",
     "output_type": "stream",
     "text": [
      "Surface    16719\n",
      "Ground      5022\n",
      "N/A         2569\n",
      "Crown       1010\n",
      "               1\n",
      "Name: fire_type, dtype: int64\n",
      "Flat         18384\n",
      "N/A           2809\n",
      "Bottom        1388\n",
      "Upper1/3      1070\n",
      "Middle1/3      910\n",
      "Lower1/3       760\n",
      "Name: fire_position_on_slope, dtype: int64\n",
      "Clear          10514\n",
      "Cloudy          8121\n",
      "N/A             2818\n",
      "CBWet           1502\n",
      "CBDry           1414\n",
      "Rainshowers      952\n",
      "Name: weather_conditions_over_fire, dtype: int64\n",
      "W      5103\n",
      "CLM    3249\n",
      "N/A    2823\n",
      "SW     2714\n",
      "NW     2683\n",
      "SE     2470\n",
      "E      1820\n",
      "S      1592\n",
      "N      1553\n",
      "NE     1314\n",
      "Name: wind_direction, dtype: int64\n"
     ]
    },
    {
     "data": {
      "text/plain": [
       "assessment_hectares             0\n",
       "current_size                    0\n",
       "fire_spread_rate                0\n",
       "fire_type                       0\n",
       "fire_position_on_slope          0\n",
       "weather_conditions_over_fire    0\n",
       "temperature                     0\n",
       "relative_humidity               0\n",
       "wind_direction                  0\n",
       "wind_speed                      0\n",
       "dtype: int64"
      ]
     },
     "execution_count": 14,
     "metadata": {},
     "output_type": "execute_result"
    }
   ],
   "source": [
    "# clean up categorical null variable\n",
    "for var in categorical:\n",
    "  df[var]= df[var].fillna(\"N/A\")\n",
    "  print(df[var].value_counts())\n",
    "\n",
    "\n",
    "# clean up numerical null variable using median\n",
    "for var in numerical:\n",
    "  df[var] = df[var].fillna(df[var].median())\n",
    "\n",
    "df.isnull().sum()\n",
    "\n"
   ]
  },
  {
   "cell_type": "code",
   "execution_count": 15,
   "metadata": {
    "colab": {
     "base_uri": "https://localhost:8080/",
     "height": 206
    },
    "executionInfo": {
     "elapsed": 5,
     "status": "ok",
     "timestamp": 1731643220836,
     "user": {
      "displayName": "Nguyen Tano",
      "userId": "03062378622803103021"
     },
     "user_tz": 360
    },
    "id": "3frwAowMotit",
    "outputId": "e37f08b6-9e7f-4e18-d049-dd9ef2eabee1"
   },
   "outputs": [
    {
     "data": {
      "text/html": [
       "<div>\n",
       "<style scoped>\n",
       "    .dataframe tbody tr th:only-of-type {\n",
       "        vertical-align: middle;\n",
       "    }\n",
       "\n",
       "    .dataframe tbody tr th {\n",
       "        vertical-align: top;\n",
       "    }\n",
       "\n",
       "    .dataframe thead th {\n",
       "        text-align: right;\n",
       "    }\n",
       "</style>\n",
       "<table border=\"1\" class=\"dataframe\">\n",
       "  <thead>\n",
       "    <tr style=\"text-align: right;\">\n",
       "      <th></th>\n",
       "      <th>assessment_hectares</th>\n",
       "      <th>current_size</th>\n",
       "      <th>fire_spread_rate</th>\n",
       "      <th>fire_type</th>\n",
       "      <th>fire_position_on_slope</th>\n",
       "      <th>weather_conditions_over_fire</th>\n",
       "      <th>temperature</th>\n",
       "      <th>relative_humidity</th>\n",
       "      <th>wind_direction</th>\n",
       "      <th>wind_speed</th>\n",
       "    </tr>\n",
       "  </thead>\n",
       "  <tbody>\n",
       "    <tr>\n",
       "      <th>0</th>\n",
       "      <td>0.01</td>\n",
       "      <td>0.10</td>\n",
       "      <td>0.0</td>\n",
       "      <td>4</td>\n",
       "      <td>1</td>\n",
       "      <td>2</td>\n",
       "      <td>18.0</td>\n",
       "      <td>10.0</td>\n",
       "      <td>8</td>\n",
       "      <td>2.0</td>\n",
       "    </tr>\n",
       "    <tr>\n",
       "      <th>1</th>\n",
       "      <td>0.20</td>\n",
       "      <td>0.20</td>\n",
       "      <td>0.0</td>\n",
       "      <td>4</td>\n",
       "      <td>2</td>\n",
       "      <td>2</td>\n",
       "      <td>12.0</td>\n",
       "      <td>22.0</td>\n",
       "      <td>8</td>\n",
       "      <td>10.0</td>\n",
       "    </tr>\n",
       "    <tr>\n",
       "      <th>2</th>\n",
       "      <td>0.50</td>\n",
       "      <td>0.50</td>\n",
       "      <td>0.0</td>\n",
       "      <td>4</td>\n",
       "      <td>0</td>\n",
       "      <td>2</td>\n",
       "      <td>12.0</td>\n",
       "      <td>22.0</td>\n",
       "      <td>8</td>\n",
       "      <td>10.0</td>\n",
       "    </tr>\n",
       "    <tr>\n",
       "      <th>3</th>\n",
       "      <td>0.01</td>\n",
       "      <td>0.01</td>\n",
       "      <td>0.0</td>\n",
       "      <td>4</td>\n",
       "      <td>1</td>\n",
       "      <td>2</td>\n",
       "      <td>12.0</td>\n",
       "      <td>22.0</td>\n",
       "      <td>8</td>\n",
       "      <td>10.0</td>\n",
       "    </tr>\n",
       "    <tr>\n",
       "      <th>4</th>\n",
       "      <td>0.10</td>\n",
       "      <td>0.10</td>\n",
       "      <td>0.1</td>\n",
       "      <td>4</td>\n",
       "      <td>1</td>\n",
       "      <td>2</td>\n",
       "      <td>6.0</td>\n",
       "      <td>37.0</td>\n",
       "      <td>8</td>\n",
       "      <td>2.0</td>\n",
       "    </tr>\n",
       "  </tbody>\n",
       "</table>\n",
       "</div>"
      ],
      "text/plain": [
       "   assessment_hectares  current_size  fire_spread_rate  fire_type  \\\n",
       "0                 0.01          0.10               0.0          4   \n",
       "1                 0.20          0.20               0.0          4   \n",
       "2                 0.50          0.50               0.0          4   \n",
       "3                 0.01          0.01               0.0          4   \n",
       "4                 0.10          0.10               0.1          4   \n",
       "\n",
       "   fire_position_on_slope  weather_conditions_over_fire  temperature  \\\n",
       "0                       1                             2         18.0   \n",
       "1                       2                             2         12.0   \n",
       "2                       0                             2         12.0   \n",
       "3                       1                             2         12.0   \n",
       "4                       1                             2          6.0   \n",
       "\n",
       "   relative_humidity  wind_direction  wind_speed  \n",
       "0               10.0               8         2.0  \n",
       "1               22.0               8        10.0  \n",
       "2               22.0               8        10.0  \n",
       "3               22.0               8        10.0  \n",
       "4               37.0               8         2.0  "
      ]
     },
     "execution_count": 15,
     "metadata": {},
     "output_type": "execute_result"
    }
   ],
   "source": [
    "# Apply Labeling Encoding\n",
    "from sklearn.preprocessing import LabelEncoder\n",
    "\n",
    "\n",
    "le = LabelEncoder()\n",
    "for var in categorical:\n",
    "  df[var] = le.fit_transform(df[var])\n",
    "\n",
    "df.head()"
   ]
  },
  {
   "cell_type": "code",
   "execution_count": 16,
   "metadata": {
    "executionInfo": {
     "elapsed": 5,
     "status": "ok",
     "timestamp": 1731643220836,
     "user": {
      "displayName": "Nguyen Tano",
      "userId": "03062378622803103021"
     },
     "user_tz": 360
    },
    "id": "C9rGL7ka09bX"
   },
   "outputs": [],
   "source": [
    "# normalizing\n",
    "from sklearn.preprocessing import MinMaxScaler\n",
    "scaler = MinMaxScaler()\n",
    "scaler.fit(df)\n",
    "scaled_features = scaler.transform(df)"
   ]
  },
  {
   "cell_type": "code",
   "execution_count": 17,
   "metadata": {
    "colab": {
     "base_uri": "https://localhost:8080/"
    },
    "executionInfo": {
     "elapsed": 5,
     "status": "ok",
     "timestamp": 1731643220836,
     "user": {
      "displayName": "Nguyen Tano",
      "userId": "03062378622803103021"
     },
     "user_tz": 360
    },
    "id": "sTCX-QmK4_oZ",
    "outputId": "a1ca2a22-ec8d-4ab1-8b96-5c9cced52eaf"
   },
   "outputs": [
    {
     "name": "stdout",
     "output_type": "stream",
     "text": [
      "<class 'pandas.core.frame.DataFrame'>\n",
      "RangeIndex: 25321 entries, 0 to 25320\n",
      "Data columns (total 10 columns):\n",
      " #   Column                        Non-Null Count  Dtype  \n",
      "---  ------                        --------------  -----  \n",
      " 0   assessment_hectares           25321 non-null  float64\n",
      " 1   current_size                  25321 non-null  float64\n",
      " 2   fire_spread_rate              25321 non-null  float64\n",
      " 3   fire_type                     25321 non-null  float64\n",
      " 4   fire_position_on_slope        25321 non-null  float64\n",
      " 5   weather_conditions_over_fire  25321 non-null  float64\n",
      " 6   temperature                   25321 non-null  float64\n",
      " 7   relative_humidity             25321 non-null  float64\n",
      " 8   wind_direction                25321 non-null  float64\n",
      " 9   wind_speed                    25321 non-null  float64\n",
      "dtypes: float64(10)\n",
      "memory usage: 1.9 MB\n"
     ]
    }
   ],
   "source": [
    "df_scaled = pd.DataFrame(scaled_features,columns=df.columns)\n",
    "df_scaled.info()"
   ]
  },
  {
   "cell_type": "code",
   "execution_count": 18,
   "metadata": {
    "colab": {
     "base_uri": "https://localhost:8080/"
    },
    "executionInfo": {
     "elapsed": 5351,
     "status": "ok",
     "timestamp": 1731643226183,
     "user": {
      "displayName": "Nguyen Tano",
      "userId": "03062378622803103021"
     },
     "user_tz": 360
    },
    "id": "1BYfSEM45csU",
    "outputId": "f5a05d0e-d75b-45d9-80d1-37bdc4fd04c5"
   },
   "outputs": [
    {
     "data": {
      "text/plain": [
       "((31288, 10), (31288,))"
      ]
     },
     "execution_count": 18,
     "metadata": {},
     "output_type": "execute_result"
    }
   ],
   "source": [
    "# handling imbalanced data\n",
    "from imblearn.combine import SMOTETomek\n",
    "from imblearn.under_sampling import NearMiss\n",
    "\n",
    "x = df_scaled\n",
    "y = label\n",
    "\n",
    "smk = SMOTETomek()\n",
    "x_res,y_res = smk.fit_resample(x,y)\n",
    "\n",
    "x_res.shape, y_res.shape"
   ]
  },
  {
   "cell_type": "code",
   "execution_count": 19,
   "metadata": {
    "colab": {
     "base_uri": "https://localhost:8080/"
    },
    "executionInfo": {
     "elapsed": 3,
     "status": "ok",
     "timestamp": 1731643226183,
     "user": {
      "displayName": "Nguyen Tano",
      "userId": "03062378622803103021"
     },
     "user_tz": 360
    },
    "id": "7Wi0KCW36kap",
    "outputId": "befd8022-8646-4e2d-adfd-399b0e3ef883"
   },
   "outputs": [
    {
     "name": "stdout",
     "output_type": "stream",
     "text": [
      "X_train shape: (25030, 10)\n",
      "X_test shape: (6258, 10)\n",
      "y_train shape: (25030,)\n",
      "y_test shape: (6258,)\n"
     ]
    }
   ],
   "source": [
    "from sklearn.model_selection import train_test_split\n",
    "\n",
    "# train test split\n",
    "x_train, x_test, y_train, y_test = train_test_split(x_res,y_res,test_size=0.20,shuffle=True)\n",
    "\n",
    "print(\"X_train shape:\",x_train.shape)\n",
    "print(\"X_test shape:\",x_test.shape)\n",
    "print(\"y_train shape:\",y_train.shape)\n",
    "print(\"y_test shape:\",y_test.shape)"
   ]
  },
  {
   "cell_type": "code",
   "execution_count": 20,
   "metadata": {
    "executionInfo": {
     "elapsed": 2,
     "status": "ok",
     "timestamp": 1731643226183,
     "user": {
      "displayName": "Nguyen Tano",
      "userId": "03062378622803103021"
     },
     "user_tz": 360
    },
    "id": "pUCKBWqQ6z-U"
   },
   "outputs": [],
   "source": [
    "# model result\n",
    "result_dict_train = {}\n",
    "result_dict_test = {}"
   ]
  },
  {
   "cell_type": "code",
   "execution_count": 21,
   "metadata": {
    "colab": {
     "base_uri": "https://localhost:8080/",
     "height": 80
    },
    "executionInfo": {
     "elapsed": 20414,
     "status": "ok",
     "timestamp": 1731643246595,
     "user": {
      "displayName": "Nguyen Tano",
      "userId": "03062378622803103021"
     },
     "user_tz": 360
    },
    "id": "NIsqpj6e60td",
    "outputId": "c1c372f1-4758-4990-d6bd-74b714fbaec2"
   },
   "outputs": [],
   "source": [
    "# model list\n",
    "from sklearn.ensemble import RandomForestClassifier, GradientBoostingClassifier\n",
    "from sklearn.svm import SVC\n",
    "from sklearn.linear_model import LogisticRegression\n",
    "from sklearn.tree import DecisionTreeClassifier\n",
    "\n",
    "random_forrest = RandomForestClassifier(n_jobs = -1, criterion=\"gini\", max_features=\"log2\", min_impurity_decrease=0.0, min_samples_split=2, n_estimators= 100)\n",
    "\n",
    "svc = SVC(C=10, degree=7, gamma= 1, kernel='poly')\n",
    "\n",
    "gradient_boost = GradientBoostingClassifier(n_estimators=100, min_samples_split=2, max_features=\"log2\")\n",
    "\n",
    "logistic_regression = LogisticRegression()\n",
    "\n",
    "decision_tree = DecisionTreeClassifier(criterion='gini', splitter='best', max_depth=None, min_samples_split=2, min_impurity_decrease=0.0, max_features=\"log2\")"
   ]
  },
  {
   "cell_type": "code",
   "execution_count": null,
   "metadata": {},
   "outputs": [
    {
     "name": "stdout",
     "output_type": "stream",
     "text": [
      "Accuracy: 0.8902205177372963\n",
      "Precision: 0.8856516290726817\n",
      "                precision    recall  f1-score   support\n",
      "\n",
      "  Human Caused   0.894977  0.882599  0.888745      3109\n",
      "Natural Caused   0.885652  0.897745  0.891657      3149\n",
      "\n",
      "      accuracy                       0.890221      6258\n",
      "     macro avg   0.890314  0.890172  0.890201      6258\n",
      "  weighted avg   0.890285  0.890221  0.890211      6258\n",
      "\n"
     ]
    }
   ],
   "source": [
    "# Voting Mechanism\n",
    "from sklearn import metrics\n",
    "from sklearn.ensemble import VotingClassifier\n",
    "voting_classifier = VotingClassifier([(\"rf\", random_forrest), (\"svc\", svc), (\"gb\", gradient_boost), (\"lr\", logistic_regression), (\"dt\", decision_tree)],\n",
    "                                     voting=\"hard\", \n",
    "                                     n_jobs=-1)\n",
    "voting_classifier.fit(x_train, y_train)\n",
    "y_pred = voting_classifier.predict(x_test)\n",
    "\n",
    "metrics.confusion_matrix(y_test, y_pred)\n",
    "print(\"Accuracy:\",metrics.accuracy_score(y_test, y_pred))\n",
    "print(\"Precision:\",metrics.precision_score(y_test, y_pred))\n",
    "classification_rep = metrics.classification_report(y_test, y_pred, digits=6, target_names=[\"Human Caused\", \"Natural Caused\"])\n",
    "print(classification_rep)"
   ]
  },
  {
   "cell_type": "code",
   "execution_count": 23,
   "metadata": {},
   "outputs": [
    {
     "name": "stdout",
     "output_type": "stream",
     "text": [
      "Accuracy: 0.900287631831256\n",
      "Precision: 0.9014308426073132\n",
      "                precision    recall  f1-score   support\n",
      "\n",
      "  Human Caused   0.899133  0.900289  0.899711      3109\n",
      "Natural Caused   0.901431  0.900286  0.900858      3149\n",
      "\n",
      "      accuracy                       0.900288      6258\n",
      "     macro avg   0.900282  0.900288  0.900284      6258\n",
      "  weighted avg   0.900289  0.900288  0.900288      6258\n",
      "\n"
     ]
    }
   ],
   "source": [
    "# Stacking Classifier\n",
    "from sklearn.ensemble import StackingClassifier\n",
    "stacking_classifier = StackingClassifier([(\"rf\", random_forrest), (\"svc\", svc), (\"gb\", gradient_boost), (\"lr\", logistic_regression), (\"dt\", decision_tree)],\n",
    "                                        cv=5,\n",
    "                                        n_jobs=-1,\n",
    "                                     )\n",
    "stacking_classifier.fit(x_train, y_train)\n",
    "y_pred = stacking_classifier.predict(x_test)\n",
    "\n",
    "metrics.confusion_matrix(y_test, y_pred)\n",
    "print(\"Accuracy:\",metrics.accuracy_score(y_test, y_pred))\n",
    "print(\"Precision:\",metrics.precision_score(y_test, y_pred))\n",
    "classification_rep = metrics.classification_report(y_test, y_pred, digits=6, target_names=[\"Human Caused\", \"Natural Caused\"])\n",
    "print(classification_rep)"
   ]
  }
 ],
 "metadata": {
  "colab": {
   "authorship_tag": "ABX9TyNI3/q6V0dbacod6psPi/+Y",
   "provenance": []
  },
  "kernelspec": {
   "display_name": "Python 3",
   "name": "python3"
  },
  "language_info": {
   "codemirror_mode": {
    "name": "ipython",
    "version": 3
   },
   "file_extension": ".py",
   "mimetype": "text/x-python",
   "name": "python",
   "nbconvert_exporter": "python",
   "pygments_lexer": "ipython3",
   "version": "3.12.0"
  }
 },
 "nbformat": 4,
 "nbformat_minor": 0
}
